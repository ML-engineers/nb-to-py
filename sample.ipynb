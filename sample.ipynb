{
 "cells": [
  {
   "cell_type": "code",
   "execution_count": null,
   "id": "1cb33307",
   "metadata": {},
   "outputs": [],
   "source": [
    "pippo = 1\n",
    "b = pluto\n",
    "paperino.change_state()"
   ]
  },
  {
   "cell_type": "markdown",
   "id": "795b799b675a17ef",
   "metadata": {
    "collapsed": false
   },
   "source": [
    "# IMPORT"
   ]
  },
  {
   "cell_type": "code",
   "execution_count": null,
   "id": "initial_id",
   "metadata": {
    "collapsed": false,
    "is_executing": true
   },
   "outputs": [],
   "source": [
    "import dataset\n",
    "import features\n",
    "import target\n",
    "import model\n",
    "import classification_metrics\n",
    "import bring"
   ]
  },
  {
   "cell_type": "markdown",
   "id": "382dfa54145ce6e7",
   "metadata": {
    "collapsed": false
   },
   "source": [
    "# DATASET"
   ]
  },
  {
   "cell_type": "code",
   "execution_count": null,
   "id": "72eb8b6292f8c9cb",
   "metadata": {
    "collapsed": false
   },
   "outputs": [],
   "source": [
    "# KEEP\n",
    "data = dataset.load(\"SELECT * FROM table\")\n",
    "train, test = dataset.split(0.3)\n",
    "X_train = train[features]\n",
    "y_train = train[target]\n",
    "X_test = train[features]\n",
    "y_test = train[target]"
   ]
  },
  {
   "cell_type": "markdown",
   "id": "2beef3a58f3d6311",
   "metadata": {
    "collapsed": false
   },
   "source": [
    "# MODEL FIT"
   ]
  },
  {
   "cell_type": "code",
   "execution_count": null,
   "id": "bd20eb9b9cba86c4",
   "metadata": {
    "collapsed": false
   },
   "outputs": [],
   "source": [
    "# KEEP\n",
    "model = model.Classifier()\n",
    "model.fit(X_train, y_train)"
   ]
  },
  {
   "cell_type": "markdown",
   "id": "575af98548da1450",
   "metadata": {
    "collapsed": false
   },
   "source": [
    "# MODEL PREDICT"
   ]
  },
  {
   "cell_type": "code",
   "execution_count": null,
   "id": "dff16b1f356b5db3",
   "metadata": {
    "collapsed": false
   },
   "outputs": [],
   "source": [
    "y_pred = model.predict(X_test)"
   ]
  },
  {
   "cell_type": "markdown",
   "id": "5d66fee8b0cb2e5",
   "metadata": {
    "collapsed": false
   },
   "source": [
    "# EVALUATION"
   ]
  },
  {
   "cell_type": "markdown",
   "id": "d2caac304d03c58c",
   "metadata": {
    "collapsed": false
   },
   "source": [
    "# CLASSIFICATION METRICS"
   ]
  },
  {
   "cell_type": "code",
   "execution_count": null,
   "id": "475a5ffb5eac49ec",
   "metadata": {
    "collapsed": false
   },
   "outputs": [],
   "source": [
    "classification_metrics(y_pred, y_test)"
   ]
  },
  {
   "cell_type": "markdown",
   "id": "65771c00",
   "metadata": {},
   "source": [
    "## Cell containing function"
   ]
  },
  {
   "cell_type": "markdown",
   "id": "a3b72358",
   "metadata": {},
   "source": [
    "just text"
   ]
  },
  {
   "cell_type": "code",
   "execution_count": null,
   "id": "a89c5f6a",
   "metadata": {},
   "outputs": [],
   "source": [
    "ciao = 1\n",
    "def myfunc(a: int, b:int):\n",
    "    import pippo\n",
    "    return a+b\n",
    "\n",
    "x=myfunc(ciao,2)"
   ]
  }
 ],
 "metadata": {
  "kernelspec": {
   "display_name": "Python 3",
   "language": "python",
   "name": "python3"
  },
  "language_info": {
   "codemirror_mode": {
    "name": "ipython",
    "version": 2
   },
   "file_extension": ".py",
   "mimetype": "text/x-python",
   "name": "python",
   "nbconvert_exporter": "python",
   "pygments_lexer": "ipython2",
   "version": "2.7.6"
  }
 },
 "nbformat": 4,
 "nbformat_minor": 5
}
